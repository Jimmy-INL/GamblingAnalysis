{
 "cells": [
  {
   "cell_type": "markdown",
   "metadata": {},
   "source": [
    "# Opportunity analysis of sports using log optimal betting strategy"
   ]
  },
  {
   "cell_type": "markdown",
   "metadata": {},
   "source": [
    "## Load Libraries"
   ]
  },
  {
   "cell_type": "code",
   "execution_count": 1,
   "metadata": {},
   "outputs": [],
   "source": [
    "import numpy as np #for numerical array data\n",
    "import pandas as pd #for tabular data\n",
    "import matplotlib.pyplot as plt #for plotting purposes\n",
    "import cvxpy as cp\n",
    "%matplotlib inline\n",
    "import math\n",
    "import importlib as imp\n",
    "import bettingLib as bl\n",
    "import time"
   ]
  },
  {
   "cell_type": "markdown",
   "metadata": {},
   "source": [
    "## Figure out the minimum win prob per bet it would take to realize an expected return of .5% as a function of the number of bets you can make in a given week"
   ]
  },
  {
   "cell_type": "code",
   "execution_count": 2,
   "metadata": {},
   "outputs": [
    {
     "name": "stdout",
     "output_type": "stream",
     "text": [
      "i = 0 Time elapsed = 0.0016801675160725911 minutes\n",
      "i = 10 Time elapsed = 0.07952008644739787 minutes\n",
      "i = 20 Time elapsed = 0.2516085147857666 minutes\n",
      "i = 30 Time elapsed = 0.5312332034111023 minutes\n",
      "i = 40 Time elapsed = 0.9367334524790446 minutes\n"
     ]
    }
   ],
   "source": [
    "start = time.time()\n",
    "imp.reload(bl)\n",
    "nVals = 50\n",
    "ns = [n for n in range(1,nVals+1)]\n",
    "vig = .02\n",
    "probs = np.zeros(len(ns))\n",
    "amountBet = np.zeros(len(ns))\n",
    "cutoff = .005\n",
    "for i in range(len(ns)):\n",
    "    probs[i], amountBet[i] = bl.calc_breakeven_prob(vig, ns[i], cutoff=cutoff)\n",
    "    if (i%10 == 0):\n",
    "        print ('i = ' + str(i) + ' Time elapsed = ' + str((time.time() - start)/60.) + ' minutes')"
   ]
  },
  {
   "cell_type": "code",
   "execution_count": 3,
   "metadata": {},
   "outputs": [
    {
     "data": {
      "image/png": "[encoded data removed]",
      "text/plain": [
       "<Figure size 432x288 with 2 Axes>"
      ]
     },
     "metadata": {
      "needs_background": "light"
     },
     "output_type": "display_data"
    }
   ],
   "source": [
    "fig, ax1 = plt.subplots()\n",
    "ax1.plot(ns, probs, 'b')\n",
    "ax1.set_xlabel('number of Bets')\n",
    "ax1.set_ylabel('Probability', color='b')\n",
    "ax1.tick_params('y', colors='b')\n",
    "\n",
    "\n",
    "ax2 = ax1.twinx()\n",
    "ax2.plot(ns, amountBet, 'r')\n",
    "ax2.set_ylabel('amount bet', color='r')\n",
    "ax2.set_ylim(0, 1)\n",
    "ax2.tick_params('y', colors='r')\n",
    "\n",
    "fig.tight_layout()\n",
    "plt.title('Win probability needed to reach expected return cutoff and proportion of wealth bet')\n",
    "plt.show()"
   ]
  },
  {
   "cell_type": "markdown",
   "metadata": {},
   "source": [
    "## Run Monte Carlo Simulations to figure out what the final wealth distribution is given the following quantities\n",
    "* probWinningAGivenBet: probability you win a bet\n",
    "* numBetsPerWeek: number of bets you can make per week\n",
    "* The simulation assumes that you will bet the log optimal amount each week independent of your wealth at that point"
   ]
  },
  {
   "cell_type": "code",
   "execution_count": 156,
   "metadata": {},
   "outputs": [],
   "source": [
    "probWinningAGivenBet = .55\n",
    "numBetsPerWeek = 8\n",
    "listOfTimeStepsToRecord = [x for x in range(0,16)]"
   ]
  },
  {
   "cell_type": "code",
   "execution_count": 157,
   "metadata": {},
   "outputs": [
    {
     "name": "stdout",
     "output_type": "stream",
     "text": [
      "Here are the simulation conditions\n",
      "During each time period, the player places 8 bets\n",
      "Each bet has a win probability of 55.00000000000001%\n",
      "Each bet made will be for 8.537160130103505% of the players wealth\n",
      "Each winning bet will return 98.0% of the amount bet \n",
      "It runs 100000 independent monte-carlo simulations\n",
      "It records the wealth distribution after the following time steps [0, 1, 2, 3, 4, 5, 6, 7, 8, 9, 10, 11, 12, 13, 14, 15]\n"
     ]
    }
   ],
   "source": [
    "imp.reload(bl)\n",
    "dfProb = bl.make_df_prob(probWinningAGivenBet)\n",
    "dfDistributions = bl.simulate_wealth_paths(dfProb, numBets, listOfTimeStepsToRecord, vig=.02, numSim=100000)"
   ]
  },
  {
   "cell_type": "code",
   "execution_count": 149,
   "metadata": {},
   "outputs": [
    {
     "data": {
      "text/html": [
       "<div>\n",
       "<style scoped>\n",
       "    .dataframe tbody tr th:only-of-type {\n",
       "        vertical-align: middle;\n",
       "    }\n",
       "\n",
       "    .dataframe tbody tr th {\n",
       "        vertical-align: top;\n",
       "    }\n",
       "\n",
       "    .dataframe thead th {\n",
       "        text-align: right;\n",
       "    }\n",
       "</style>\n",
       "<table border=\"1\" class=\"dataframe\">\n",
       "  <thead>\n",
       "    <tr style=\"text-align: right;\">\n",
       "      <th></th>\n",
       "      <th>Time 0</th>\n",
       "      <th>Time 1</th>\n",
       "      <th>Time 2</th>\n",
       "      <th>Time 3</th>\n",
       "      <th>Time 4</th>\n",
       "      <th>Time 5</th>\n",
       "      <th>Time 6</th>\n",
       "      <th>Time 7</th>\n",
       "      <th>Time 8</th>\n",
       "      <th>Time 9</th>\n",
       "      <th>Time 10</th>\n",
       "      <th>Time 11</th>\n",
       "      <th>Time 12</th>\n",
       "      <th>Time 13</th>\n",
       "      <th>Time 14</th>\n",
       "      <th>Time 15</th>\n",
       "    </tr>\n",
       "  </thead>\n",
       "  <tbody>\n",
       "    <tr>\n",
       "      <th>0</th>\n",
       "      <td>1.0</td>\n",
       "      <td>1.162206</td>\n",
       "      <td>0.957814</td>\n",
       "      <td>1.113177</td>\n",
       "      <td>1.105575</td>\n",
       "      <td>0.911142</td>\n",
       "      <td>0.904919</td>\n",
       "      <td>0.898739</td>\n",
       "      <td>1.196439</td>\n",
       "      <td>1.390509</td>\n",
       "      <td>0.910920</td>\n",
       "      <td>0.750721</td>\n",
       "      <td>0.999391</td>\n",
       "      <td>0.992566</td>\n",
       "      <td>1.153566</td>\n",
       "      <td>1.145687</td>\n",
       "    </tr>\n",
       "    <tr>\n",
       "      <th>1</th>\n",
       "      <td>1.0</td>\n",
       "      <td>0.993170</td>\n",
       "      <td>1.154268</td>\n",
       "      <td>1.341498</td>\n",
       "      <td>1.785858</td>\n",
       "      <td>1.471787</td>\n",
       "      <td>1.461735</td>\n",
       "      <td>1.204666</td>\n",
       "      <td>1.196439</td>\n",
       "      <td>0.986027</td>\n",
       "      <td>1.312640</td>\n",
       "      <td>1.303675</td>\n",
       "      <td>1.294771</td>\n",
       "      <td>1.285928</td>\n",
       "      <td>1.494514</td>\n",
       "      <td>1.484306</td>\n",
       "    </tr>\n",
       "    <tr>\n",
       "      <th>2</th>\n",
       "      <td>1.0</td>\n",
       "      <td>1.162206</td>\n",
       "      <td>1.547177</td>\n",
       "      <td>1.275082</td>\n",
       "      <td>1.481908</td>\n",
       "      <td>1.972778</td>\n",
       "      <td>1.292364</td>\n",
       "      <td>1.283538</td>\n",
       "      <td>1.057808</td>\n",
       "      <td>0.514161</td>\n",
       "      <td>0.423738</td>\n",
       "      <td>0.635725</td>\n",
       "      <td>0.416462</td>\n",
       "      <td>0.554412</td>\n",
       "      <td>0.644341</td>\n",
       "      <td>0.639941</td>\n",
       "    </tr>\n",
       "    <tr>\n",
       "      <th>3</th>\n",
       "      <td>1.0</td>\n",
       "      <td>1.500278</td>\n",
       "      <td>1.743632</td>\n",
       "      <td>1.731723</td>\n",
       "      <td>2.012619</td>\n",
       "      <td>3.019487</td>\n",
       "      <td>2.998865</td>\n",
       "      <td>3.485299</td>\n",
       "      <td>4.050636</td>\n",
       "      <td>4.707673</td>\n",
       "      <td>6.267051</td>\n",
       "      <td>5.164893</td>\n",
       "      <td>4.256567</td>\n",
       "      <td>4.947008</td>\n",
       "      <td>5.749442</td>\n",
       "      <td>6.682036</td>\n",
       "    </tr>\n",
       "    <tr>\n",
       "      <th>4</th>\n",
       "      <td>1.0</td>\n",
       "      <td>0.824135</td>\n",
       "      <td>1.236431</td>\n",
       "      <td>0.809984</td>\n",
       "      <td>0.530620</td>\n",
       "      <td>0.616689</td>\n",
       "      <td>0.925205</td>\n",
       "      <td>0.762493</td>\n",
       "      <td>0.886174</td>\n",
       "      <td>0.880122</td>\n",
       "      <td>0.427795</td>\n",
       "      <td>0.569498</td>\n",
       "      <td>0.854405</td>\n",
       "      <td>0.848570</td>\n",
       "      <td>1.129652</td>\n",
       "      <td>0.930985</td>\n",
       "    </tr>\n",
       "    <tr>\n",
       "      <th>5</th>\n",
       "      <td>1.0</td>\n",
       "      <td>1.331242</td>\n",
       "      <td>1.772205</td>\n",
       "      <td>1.760101</td>\n",
       "      <td>2.045600</td>\n",
       "      <td>2.377409</td>\n",
       "      <td>1.959305</td>\n",
       "      <td>2.277116</td>\n",
       "      <td>2.261564</td>\n",
       "      <td>1.863833</td>\n",
       "      <td>1.536049</td>\n",
       "      <td>1.525558</td>\n",
       "      <td>2.030887</td>\n",
       "      <td>2.703601</td>\n",
       "      <td>3.142141</td>\n",
       "      <td>3.120682</td>\n",
       "    </tr>\n",
       "    <tr>\n",
       "      <th>6</th>\n",
       "      <td>1.0</td>\n",
       "      <td>1.162206</td>\n",
       "      <td>1.350723</td>\n",
       "      <td>1.113177</td>\n",
       "      <td>1.105575</td>\n",
       "      <td>1.284906</td>\n",
       "      <td>1.493325</td>\n",
       "      <td>1.735551</td>\n",
       "      <td>1.136957</td>\n",
       "      <td>0.552633</td>\n",
       "      <td>0.642273</td>\n",
       "      <td>0.529320</td>\n",
       "      <td>0.436231</td>\n",
       "      <td>0.506990</td>\n",
       "      <td>0.589227</td>\n",
       "      <td>0.684803</td>\n",
       "    </tr>\n",
       "    <tr>\n",
       "      <th>7</th>\n",
       "      <td>1.0</td>\n",
       "      <td>0.824135</td>\n",
       "      <td>0.818506</td>\n",
       "      <td>0.812916</td>\n",
       "      <td>1.219599</td>\n",
       "      <td>1.623581</td>\n",
       "      <td>1.338050</td>\n",
       "      <td>1.781267</td>\n",
       "      <td>2.070200</td>\n",
       "      <td>1.006247</td>\n",
       "      <td>0.999375</td>\n",
       "      <td>1.161480</td>\n",
       "      <td>0.957216</td>\n",
       "      <td>0.950678</td>\n",
       "      <td>1.104884</td>\n",
       "      <td>1.284103</td>\n",
       "    </tr>\n",
       "    <tr>\n",
       "      <th>8</th>\n",
       "      <td>1.0</td>\n",
       "      <td>1.162206</td>\n",
       "      <td>1.547177</td>\n",
       "      <td>1.798139</td>\n",
       "      <td>1.481908</td>\n",
       "      <td>1.722283</td>\n",
       "      <td>2.292775</td>\n",
       "      <td>3.439798</td>\n",
       "      <td>2.834857</td>\n",
       "      <td>1.857111</td>\n",
       "      <td>1.844427</td>\n",
       "      <td>1.831830</td>\n",
       "      <td>2.438609</td>\n",
       "      <td>2.421954</td>\n",
       "      <td>1.996016</td>\n",
       "      <td>2.657180</td>\n",
       "    </tr>\n",
       "    <tr>\n",
       "      <th>9</th>\n",
       "      <td>1.0</td>\n",
       "      <td>1.162206</td>\n",
       "      <td>1.350723</td>\n",
       "      <td>1.798139</td>\n",
       "      <td>1.481908</td>\n",
       "      <td>1.972778</td>\n",
       "      <td>1.959305</td>\n",
       "      <td>1.945923</td>\n",
       "      <td>2.261564</td>\n",
       "      <td>3.010688</td>\n",
       "      <td>3.499040</td>\n",
       "      <td>2.883679</td>\n",
       "      <td>4.326320</td>\n",
       "      <td>4.296772</td>\n",
       "      <td>3.541118</td>\n",
       "      <td>3.516933</td>\n",
       "    </tr>\n",
       "  </tbody>\n",
       "</table>\n",
       "</div>"
      ],
      "text/plain": [
       "   Time 0    Time 1    Time 2    Time 3    Time 4    Time 5    Time 6  \\\n",
       "0     1.0  1.162206  0.957814  1.113177  1.105575  0.911142  0.904919   \n",
       "1     1.0  0.993170  1.154268  1.341498  1.785858  1.471787  1.461735   \n",
       "2     1.0  1.162206  1.547177  1.275082  1.481908  1.972778  1.292364   \n",
       "3     1.0  1.500278  1.743632  1.731723  2.012619  3.019487  2.998865   \n",
       "4     1.0  0.824135  1.236431  0.809984  0.530620  0.616689  0.925205   \n",
       "5     1.0  1.331242  1.772205  1.760101  2.045600  2.377409  1.959305   \n",
       "6     1.0  1.162206  1.350723  1.113177  1.105575  1.284906  1.493325   \n",
       "7     1.0  0.824135  0.818506  0.812916  1.219599  1.623581  1.338050   \n",
       "8     1.0  1.162206  1.547177  1.798139  1.481908  1.722283  2.292775   \n",
       "9     1.0  1.162206  1.350723  1.798139  1.481908  1.972778  1.959305   \n",
       "\n",
       "     Time 7    Time 8    Time 9   Time 10   Time 11   Time 12   Time 13  \\\n",
       "0  0.898739  1.196439  1.390509  0.910920  0.750721  0.999391  0.992566   \n",
       "1  1.204666  1.196439  0.986027  1.312640  1.303675  1.294771  1.285928   \n",
       "2  1.283538  1.057808  0.514161  0.423738  0.635725  0.416462  0.554412   \n",
       "3  3.485299  4.050636  4.707673  6.267051  5.164893  4.256567  4.947008   \n",
       "4  0.762493  0.886174  0.880122  0.427795  0.569498  0.854405  0.848570   \n",
       "5  2.277116  2.261564  1.863833  1.536049  1.525558  2.030887  2.703601   \n",
       "6  1.735551  1.136957  0.552633  0.642273  0.529320  0.436231  0.506990   \n",
       "7  1.781267  2.070200  1.006247  0.999375  1.161480  0.957216  0.950678   \n",
       "8  3.439798  2.834857  1.857111  1.844427  1.831830  2.438609  2.421954   \n",
       "9  1.945923  2.261564  3.010688  3.499040  2.883679  4.326320  4.296772   \n",
       "\n",
       "    Time 14   Time 15  \n",
       "0  1.153566  1.145687  \n",
       "1  1.494514  1.484306  \n",
       "2  0.644341  0.639941  \n",
       "3  5.749442  6.682036  \n",
       "4  1.129652  0.930985  \n",
       "5  3.142141  3.120682  \n",
       "6  0.589227  0.684803  \n",
       "7  1.104884  1.284103  \n",
       "8  1.996016  2.657180  \n",
       "9  3.541118  3.516933  "
      ]
     },
     "execution_count": 149,
     "metadata": {},
     "output_type": "execute_result"
    }
   ],
   "source": [
    "dfDistributions.head(10)"
   ]
  },
  {
   "cell_type": "code",
   "execution_count": 150,
   "metadata": {},
   "outputs": [
    {
     "data": {
      "image/png": "[encoded data removed]",
      "text/plain": [
       "<Figure size 432x288 with 1 Axes>"
      ]
     },
     "metadata": {
      "needs_background": "light"
     },
     "output_type": "display_data"
    }
   ],
   "source": [
    "plt.hist(dfDistributions['Time 15'], bins = 150,density=True,log=True)\n",
    "plt.title('Histogram of Final Wealth')\n",
    "plt.show()"
   ]
  },
  {
   "cell_type": "code",
   "execution_count": 151,
   "metadata": {},
   "outputs": [
    {
     "data": {
      "image/png": "[encoded data removed]",
      "text/plain": [
       "<Figure size 432x288 with 1 Axes>"
      ]
     },
     "metadata": {
      "needs_background": "light"
     },
     "output_type": "display_data"
    }
   ],
   "source": [
    "plt.hist(dfDistributions['Time 15'], range=(0,5), density=True, cumulative=True)\n",
    "plt.title('Cumulative Distribution of Final Wealth')\n",
    "plt.show()"
   ]
  },
  {
   "cell_type": "code",
   "execution_count": 158,
   "metadata": {},
   "outputs": [
    {
     "name": "stdout",
     "output_type": "stream",
     "text": [
      "Probability you make money = \n",
      "70.184\n"
     ]
    }
   ],
   "source": [
    "print('Probability you make money = ')\n",
    "print(100*dfDistributions[dfDistributions['Time 15'] >= 1].shape[0]/dfDistributions['Time 15'].shape[0])"
   ]
  },
  {
   "cell_type": "code",
   "execution_count": 159,
   "metadata": {},
   "outputs": [
    {
     "name": "stdout",
     "output_type": "stream",
     "text": [
      "Average final wealth as a proportion of initial wealth = \n",
      "2.431677408506421\n"
     ]
    }
   ],
   "source": [
    "print('Average final wealth as a proportion of initial wealth = ')\n",
    "print(dfDistributions['Time 15'].mean())"
   ]
  },
  {
   "cell_type": "code",
   "execution_count": null,
   "metadata": {},
   "outputs": [],
   "source": []
  }
 ],
 "metadata": {
  "kernelspec": {
   "display_name": "Python 3",
   "language": "python",
   "name": "python3"
  },
  "language_info": {
   "codemirror_mode": {
    "name": "ipython",
    "version": 3
   },
   "file_extension": ".py",
   "mimetype": "text/x-python",
   "name": "python",
   "nbconvert_exporter": "python",
   "pygments_lexer": "ipython3",
   "version": "3.6.7"
  }
 },
 "nbformat": 4,
 "nbformat_minor": 2
}
