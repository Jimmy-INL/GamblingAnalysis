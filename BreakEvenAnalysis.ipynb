{
 "cells": [
  {
   "cell_type": "markdown",
   "metadata": {},
   "source": [
    "# Opportunity analysis of sports using log optimal betting strategy"
   ]
  },
  {
   "cell_type": "markdown",
   "metadata": {},
   "source": [
    "## Load Libraries"
   ]
  },
  {
   "cell_type": "code",
   "execution_count": 1,
   "metadata": {},
   "outputs": [],
   "source": [
    "import numpy as np #for numerical array data\n",
    "import pandas as pd #for tabular data\n",
    "import matplotlib.pyplot as plt #for plotting purposes\n",
    "import cvxpy as cp\n",
    "%matplotlib inline\n",
    "import math\n",
    "import importlib as imp\n",
    "import bettingLib as bl\n",
    "import time"
   ]
  },
  {
   "cell_type": "markdown",
   "metadata": {},
   "source": [
    "## Figure out the minimum win prob per bet it would take to realize an expected return of .5% as a function of the cutoff"
   ]
  },
  {
   "cell_type": "code",
   "execution_count": 2,
   "metadata": {},
   "outputs": [],
   "source": [
    "imp.reload(bl)\n",
    "nVals = 8\n",
    "ns = [n for n in range(1,nVals+1)]\n",
    "ns.remove(5)\n",
    "ns.remove(7)\n",
    "vig = .02\n",
    "probs = np.zeros(len(ns))\n",
    "cutoff = .005\n",
    "for i in range(len(ns)):\n",
    "    probs[i], _ = bl.calc_breakeven_prob(vig, ns[i], cutoff=cutoff)\n"
   ]
  },
  {
   "cell_type": "code",
   "execution_count": 3,
   "metadata": {},
   "outputs": [
    {
     "data": {
      "image/png": "[encoded data removed]",
      "text/plain": [
       "<Figure size 432x288 with 1 Axes>"
      ]
     },
     "metadata": {
      "needs_background": "light"
     },
     "output_type": "display_data"
    }
   ],
   "source": [
    "plt.plot(ns, probs)\n",
    "plt.title('Break Even Probability when vig is 2% as a function of the number of bets')\n",
    "plt.xlabel('Number of Bets')\n",
    "plt.ylabel('Probability')\n",
    "plt.show()"
   ]
  },
  {
   "cell_type": "markdown",
   "metadata": {},
   "source": [
    "## Assuming you have a 52.5% win prob, what is the optimal betting strategy?"
   ]
  },
  {
   "cell_type": "code",
   "execution_count": 5,
   "metadata": {},
   "outputs": [
    {
     "name": "stdout",
     "output_type": "stream",
     "text": [
      "It took 0.00038504997889200846\n"
     ]
    }
   ],
   "source": [
    "start = time.time()\n",
    "dfProb = pd.DataFrame([.525]*1, columns=['Probabilities'])\n",
    "vig = .02\n",
    "weights1, expectedReturn1 =  bl.optimal_bet_given_probs(dfProb, vig)\n",
    "print ('It took ' + str((time.time() - start)/60.))"
   ]
  },
  {
   "cell_type": "code",
   "execution_count": 6,
   "metadata": {},
   "outputs": [
    {
     "name": "stdout",
     "output_type": "stream",
     "text": [
      "It took 0.0006131331125895182\n"
     ]
    }
   ],
   "source": [
    "start = time.time()\n",
    "dfProb = pd.DataFrame([.525]*2, columns=['Probabilities'])\n",
    "vig = .02\n",
    "weights2, expectedReturn2 =  bl.optimal_bet_given_probs(dfProb, vig)\n",
    "print ('It took ' + str((time.time() - start)/60.))"
   ]
  },
  {
   "cell_type": "code",
   "execution_count": 7,
   "metadata": {},
   "outputs": [
    {
     "name": "stdout",
     "output_type": "stream",
     "text": [
      "It took 0.0017479499181111654\n"
     ]
    }
   ],
   "source": [
    "start = time.time()\n",
    "dfProb = pd.DataFrame([.525]*4, columns=['Probabilities'])\n",
    "vig = .02\n",
    "weights4, expectedReturn4 =  bl.optimal_bet_given_probs(dfProb, vig)\n",
    "print ('It took ' + str((time.time() - start)/60.))"
   ]
  },
  {
   "cell_type": "code",
   "execution_count": 8,
   "metadata": {},
   "outputs": [
    {
     "name": "stdout",
     "output_type": "stream",
     "text": [
      "It took 0.026878833770751953\n"
     ]
    }
   ],
   "source": [
    "start = time.time()\n",
    "dfProb = pd.DataFrame([.525]*8, columns=['Probabilities'])\n",
    "vig = .02\n",
    "weights8, expectedReturn8 =  bl.optimal_bet_given_probs(dfProb, vig)\n",
    "print ('It took ' + str((time.time() - start)/60.))"
   ]
  },
  {
   "cell_type": "code",
   "execution_count": null,
   "metadata": {},
   "outputs": [],
   "source": []
  }
 ],
 "metadata": {
  "kernelspec": {
   "display_name": "Python 3",
   "language": "python",
   "name": "python3"
  },
  "language_info": {
   "codemirror_mode": {
    "name": "ipython",
    "version": 3
   },
   "file_extension": ".py",
   "mimetype": "text/x-python",
   "name": "python",
   "nbconvert_exporter": "python",
   "pygments_lexer": "ipython3",
   "version": "3.6.7"
  }
 },
 "nbformat": 4,
 "nbformat_minor": 2
}
