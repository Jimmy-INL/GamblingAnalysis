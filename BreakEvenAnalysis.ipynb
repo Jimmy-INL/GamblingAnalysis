{
 "cells": [
  {
   "cell_type": "markdown",
   "metadata": {},
   "source": [
    "# Opportunity analysis of sports using log optimal betting strategy"
   ]
  },
  {
   "cell_type": "markdown",
   "metadata": {},
   "source": [
    "## Load Libraries"
   ]
  },
  {
   "cell_type": "code",
   "execution_count": 1,
   "metadata": {},
   "outputs": [],
   "source": [
    "import numpy as np #for numerical array data\n",
    "import pandas as pd #for tabular data\n",
    "import matplotlib.pyplot as plt #for plotting purposes\n",
    "import cvxpy as cp\n",
    "%matplotlib inline\n",
    "import math\n",
    "import importlib as imp\n",
    "import bettingLib as bl\n",
    "import riskMeasuresAndTools as rm\n",
    "import time"
   ]
  },
  {
   "cell_type": "markdown",
   "metadata": {},
   "source": [
    "## Figure out the minimum win prob per bet it would take to realize an expected return of .5% as a function of the number of bets you can make in a given week"
   ]
  },
  {
   "cell_type": "code",
   "execution_count": 2,
   "metadata": {},
   "outputs": [
    {
     "name": "stdout",
     "output_type": "stream",
     "text": [
      "i = 0 Time elapsed = 0.0015736460685729981 minutes\n",
      "i = 10 Time elapsed = 0.07411011060078938 minutes\n",
      "i = 20 Time elapsed = 0.24803921381632488 minutes\n",
      "i = 30 Time elapsed = 0.5915311972300211 minutes\n",
      "i = 40 Time elapsed = 1.0244707783063254 minutes\n"
     ]
    }
   ],
   "source": [
    "start = time.time()\n",
    "imp.reload(bl)\n",
    "nVals = 50\n",
    "ns = [n for n in range(1,nVals+1)]\n",
    "vig = .02\n",
    "probs = np.zeros(len(ns))\n",
    "amountBet = np.zeros(len(ns))\n",
    "cutoff = .005\n",
    "for i in range(len(ns)):\n",
    "    probs[i], amountBet[i] = bl.calc_breakeven_prob(vig, ns[i], cutoff=cutoff)\n",
    "    if (i%10 == 0):\n",
    "        print ('i = ' + str(i) + ' Time elapsed = ' + str((time.time() - start)/60.) + ' minutes')"
   ]
  },
  {
   "cell_type": "code",
   "execution_count": 3,
   "metadata": {},
   "outputs": [
    {
     "data": {
      "image/png": "[encoded data removed]",
      "text/plain": [
       "<Figure size 432x288 with 2 Axes>"
      ]
     },
     "metadata": {
      "needs_background": "light"
     },
     "output_type": "display_data"
    }
   ],
   "source": [
    "fig, ax1 = plt.subplots()\n",
    "ax1.plot(ns, probs, 'b')\n",
    "ax1.set_xlabel('number of Bets')\n",
    "ax1.set_ylabel('Probability', color='b')\n",
    "ax1.tick_params('y', colors='b')\n",
    "\n",
    "\n",
    "ax2 = ax1.twinx()\n",
    "ax2.plot(ns, amountBet, 'r')\n",
    "ax2.set_ylabel('amount bet', color='r')\n",
    "ax2.set_ylim(0, 1)\n",
    "ax2.tick_params('y', colors='r')\n",
    "\n",
    "fig.tight_layout()\n",
    "plt.title('Win probability needed to reach expected return cutoff and proportion of wealth bet')\n",
    "plt.show()"
   ]
  },
  {
   "cell_type": "markdown",
   "metadata": {},
   "source": [
    "## Run Monte Carlo Simulations to figure out what the final wealth distribution is given the following quantities\n",
    "* probWinningAGivenBet: probability you win a bet\n",
    "* numBetsPerWeek: number of bets you can make per week\n",
    "* The simulation assumes that you will bet the log optimal amount each week independent of your wealth at that point"
   ]
  },
  {
   "cell_type": "code",
   "execution_count": 4,
   "metadata": {},
   "outputs": [],
   "source": [
    "probWinningAGivenBet = .55\n",
    "numBetsPerWeek = 8\n",
    "listOfTimeStepsToRecord = [x for x in range(0,16)]"
   ]
  },
  {
   "cell_type": "code",
   "execution_count": 5,
   "metadata": {},
   "outputs": [
    {
     "name": "stdout",
     "output_type": "stream",
     "text": [
      "Here are the simulation conditions\n",
      "During each time period, the player places 8 bets\n",
      "Each bet has a win probability of 55.00000000000001%\n",
      "Each bet made will be for 8.537160134097746% of the players wealth\n",
      "Each winning bet will return 98.0% of the amount bet \n",
      "It runs 100000 independent monte-carlo simulations\n",
      "It records the wealth distribution after the following time steps [0, 1, 2, 3, 4, 5, 6, 7, 8, 9, 10, 11, 12, 13, 14, 15]\n"
     ]
    }
   ],
   "source": [
    "imp.reload(bl)\n",
    "dfProb = bl.make_df_prob(probWinningAGivenBet)\n",
    "dfDistributions = bl.simulate_wealth_paths(dfProb, numBetsPerWeek, listOfTimeStepsToRecord, vig=.02, numSim=100000)"
   ]
  },
  {
   "cell_type": "code",
   "execution_count": 6,
   "metadata": {},
   "outputs": [
    {
     "data": {
      "text/html": [
       "<div>\n",
       "<style scoped>\n",
       "    .dataframe tbody tr th:only-of-type {\n",
       "        vertical-align: middle;\n",
       "    }\n",
       "\n",
       "    .dataframe tbody tr th {\n",
       "        vertical-align: top;\n",
       "    }\n",
       "\n",
       "    .dataframe thead th {\n",
       "        text-align: right;\n",
       "    }\n",
       "</style>\n",
       "<table border=\"1\" class=\"dataframe\">\n",
       "  <thead>\n",
       "    <tr style=\"text-align: right;\">\n",
       "      <th></th>\n",
       "      <th>Time 0</th>\n",
       "      <th>Time 1</th>\n",
       "      <th>Time 2</th>\n",
       "      <th>Time 3</th>\n",
       "      <th>Time 4</th>\n",
       "      <th>Time 5</th>\n",
       "      <th>Time 6</th>\n",
       "      <th>Time 7</th>\n",
       "      <th>Time 8</th>\n",
       "      <th>Time 9</th>\n",
       "      <th>Time 10</th>\n",
       "      <th>Time 11</th>\n",
       "      <th>Time 12</th>\n",
       "      <th>Time 13</th>\n",
       "      <th>Time 14</th>\n",
       "      <th>Time 15</th>\n",
       "    </tr>\n",
       "  </thead>\n",
       "  <tbody>\n",
       "    <tr>\n",
       "      <th>0</th>\n",
       "      <td>1.0</td>\n",
       "      <td>0.486063</td>\n",
       "      <td>0.482743</td>\n",
       "      <td>0.479446</td>\n",
       "      <td>0.395128</td>\n",
       "      <td>0.392430</td>\n",
       "      <td>0.389749</td>\n",
       "      <td>0.452969</td>\n",
       "      <td>0.373307</td>\n",
       "      <td>0.433860</td>\n",
       "      <td>0.724249</td>\n",
       "      <td>0.474454</td>\n",
       "      <td>0.310814</td>\n",
       "      <td>0.361230</td>\n",
       "      <td>0.480885</td>\n",
       "      <td>0.477601</td>\n",
       "    </tr>\n",
       "    <tr>\n",
       "      <th>1</th>\n",
       "      <td>1.0</td>\n",
       "      <td>0.824135</td>\n",
       "      <td>0.957814</td>\n",
       "      <td>0.951272</td>\n",
       "      <td>1.105575</td>\n",
       "      <td>1.284906</td>\n",
       "      <td>1.493325</td>\n",
       "      <td>1.735551</td>\n",
       "      <td>1.430328</td>\n",
       "      <td>0.937006</td>\n",
       "      <td>1.247381</td>\n",
       "      <td>1.238862</td>\n",
       "      <td>1.439813</td>\n",
       "      <td>1.673359</td>\n",
       "      <td>1.379073</td>\n",
       "      <td>1.136542</td>\n",
       "    </tr>\n",
       "    <tr>\n",
       "      <th>2</th>\n",
       "      <td>1.0</td>\n",
       "      <td>0.824135</td>\n",
       "      <td>0.818506</td>\n",
       "      <td>1.227986</td>\n",
       "      <td>0.596879</td>\n",
       "      <td>0.391014</td>\n",
       "      <td>0.388344</td>\n",
       "      <td>0.385692</td>\n",
       "      <td>0.448253</td>\n",
       "      <td>0.369421</td>\n",
       "      <td>0.366898</td>\n",
       "      <td>0.302373</td>\n",
       "      <td>0.402532</td>\n",
       "      <td>0.331740</td>\n",
       "      <td>0.273399</td>\n",
       "      <td>0.271531</td>\n",
       "    </tr>\n",
       "    <tr>\n",
       "      <th>3</th>\n",
       "      <td>1.0</td>\n",
       "      <td>1.500278</td>\n",
       "      <td>1.236431</td>\n",
       "      <td>1.227986</td>\n",
       "      <td>1.634746</td>\n",
       "      <td>1.899912</td>\n",
       "      <td>2.529242</td>\n",
       "      <td>2.511968</td>\n",
       "      <td>2.494812</td>\n",
       "      <td>2.899486</td>\n",
       "      <td>3.859917</td>\n",
       "      <td>4.486019</td>\n",
       "      <td>4.455380</td>\n",
       "      <td>5.178070</td>\n",
       "      <td>6.017984</td>\n",
       "      <td>6.994138</td>\n",
       "    </tr>\n",
       "    <tr>\n",
       "      <th>4</th>\n",
       "      <td>1.0</td>\n",
       "      <td>1.162206</td>\n",
       "      <td>1.350723</td>\n",
       "      <td>1.341498</td>\n",
       "      <td>1.785858</td>\n",
       "      <td>2.075535</td>\n",
       "      <td>3.113879</td>\n",
       "      <td>4.145325</td>\n",
       "      <td>3.416306</td>\n",
       "      <td>2.238017</td>\n",
       "      <td>1.844427</td>\n",
       "      <td>1.831830</td>\n",
       "      <td>2.128964</td>\n",
       "      <td>2.474295</td>\n",
       "      <td>2.875641</td>\n",
       "      <td>3.828174</td>\n",
       "    </tr>\n",
       "    <tr>\n",
       "      <th>5</th>\n",
       "      <td>1.0</td>\n",
       "      <td>1.500278</td>\n",
       "      <td>1.743632</td>\n",
       "      <td>2.321195</td>\n",
       "      <td>2.697707</td>\n",
       "      <td>3.135292</td>\n",
       "      <td>3.113879</td>\n",
       "      <td>3.092612</td>\n",
       "      <td>4.117014</td>\n",
       "      <td>3.392973</td>\n",
       "      <td>3.943334</td>\n",
       "      <td>1.916709</td>\n",
       "      <td>2.227610</td>\n",
       "      <td>1.835850</td>\n",
       "      <td>1.512988</td>\n",
       "      <td>1.502654</td>\n",
       "    </tr>\n",
       "    <tr>\n",
       "      <th>6</th>\n",
       "      <td>1.0</td>\n",
       "      <td>0.655099</td>\n",
       "      <td>0.761360</td>\n",
       "      <td>1.013554</td>\n",
       "      <td>1.177958</td>\n",
       "      <td>1.568148</td>\n",
       "      <td>1.557438</td>\n",
       "      <td>0.757013</td>\n",
       "      <td>0.751842</td>\n",
       "      <td>0.746708</td>\n",
       "      <td>0.615388</td>\n",
       "      <td>0.611185</td>\n",
       "      <td>0.813634</td>\n",
       "      <td>1.083144</td>\n",
       "      <td>0.892657</td>\n",
       "      <td>0.735669</td>\n",
       "    </tr>\n",
       "    <tr>\n",
       "      <th>7</th>\n",
       "      <td>1.0</td>\n",
       "      <td>1.162206</td>\n",
       "      <td>1.350723</td>\n",
       "      <td>1.341498</td>\n",
       "      <td>1.559097</td>\n",
       "      <td>2.075535</td>\n",
       "      <td>1.710520</td>\n",
       "      <td>1.698838</td>\n",
       "      <td>1.687235</td>\n",
       "      <td>1.390509</td>\n",
       "      <td>1.616057</td>\n",
       "      <td>1.058677</td>\n",
       "      <td>0.693538</td>\n",
       "      <td>0.688801</td>\n",
       "      <td>0.567665</td>\n",
       "      <td>0.467832</td>\n",
       "    </tr>\n",
       "    <tr>\n",
       "      <th>8</th>\n",
       "      <td>1.0</td>\n",
       "      <td>0.824135</td>\n",
       "      <td>0.679198</td>\n",
       "      <td>0.674559</td>\n",
       "      <td>0.669952</td>\n",
       "      <td>1.005114</td>\n",
       "      <td>1.338050</td>\n",
       "      <td>1.555089</td>\n",
       "      <td>1.544468</td>\n",
       "      <td>1.794991</td>\n",
       "      <td>1.175896</td>\n",
       "      <td>1.366633</td>\n",
       "      <td>1.588310</td>\n",
       "      <td>1.040500</td>\n",
       "      <td>1.209275</td>\n",
       "      <td>1.609837</td>\n",
       "    </tr>\n",
       "    <tr>\n",
       "      <th>9</th>\n",
       "      <td>1.0</td>\n",
       "      <td>0.993170</td>\n",
       "      <td>1.322150</td>\n",
       "      <td>1.313120</td>\n",
       "      <td>0.860223</td>\n",
       "      <td>1.290574</td>\n",
       "      <td>1.281759</td>\n",
       "      <td>1.489668</td>\n",
       "      <td>1.983109</td>\n",
       "      <td>2.304781</td>\n",
       "      <td>1.899450</td>\n",
       "      <td>0.923252</td>\n",
       "      <td>1.073009</td>\n",
       "      <td>1.065681</td>\n",
       "      <td>1.418679</td>\n",
       "      <td>1.888605</td>\n",
       "    </tr>\n",
       "  </tbody>\n",
       "</table>\n",
       "</div>"
      ],
      "text/plain": [
       "   Time 0    Time 1    Time 2    Time 3    Time 4    Time 5    Time 6  \\\n",
       "0     1.0  0.486063  0.482743  0.479446  0.395128  0.392430  0.389749   \n",
       "1     1.0  0.824135  0.957814  0.951272  1.105575  1.284906  1.493325   \n",
       "2     1.0  0.824135  0.818506  1.227986  0.596879  0.391014  0.388344   \n",
       "3     1.0  1.500278  1.236431  1.227986  1.634746  1.899912  2.529242   \n",
       "4     1.0  1.162206  1.350723  1.341498  1.785858  2.075535  3.113879   \n",
       "5     1.0  1.500278  1.743632  2.321195  2.697707  3.135292  3.113879   \n",
       "6     1.0  0.655099  0.761360  1.013554  1.177958  1.568148  1.557438   \n",
       "7     1.0  1.162206  1.350723  1.341498  1.559097  2.075535  1.710520   \n",
       "8     1.0  0.824135  0.679198  0.674559  0.669952  1.005114  1.338050   \n",
       "9     1.0  0.993170  1.322150  1.313120  0.860223  1.290574  1.281759   \n",
       "\n",
       "     Time 7    Time 8    Time 9   Time 10   Time 11   Time 12   Time 13  \\\n",
       "0  0.452969  0.373307  0.433860  0.724249  0.474454  0.310814  0.361230   \n",
       "1  1.735551  1.430328  0.937006  1.247381  1.238862  1.439813  1.673359   \n",
       "2  0.385692  0.448253  0.369421  0.366898  0.302373  0.402532  0.331740   \n",
       "3  2.511968  2.494812  2.899486  3.859917  4.486019  4.455380  5.178070   \n",
       "4  4.145325  3.416306  2.238017  1.844427  1.831830  2.128964  2.474295   \n",
       "5  3.092612  4.117014  3.392973  3.943334  1.916709  2.227610  1.835850   \n",
       "6  0.757013  0.751842  0.746708  0.615388  0.611185  0.813634  1.083144   \n",
       "7  1.698838  1.687235  1.390509  1.616057  1.058677  0.693538  0.688801   \n",
       "8  1.555089  1.544468  1.794991  1.175896  1.366633  1.588310  1.040500   \n",
       "9  1.489668  1.983109  2.304781  1.899450  0.923252  1.073009  1.065681   \n",
       "\n",
       "    Time 14   Time 15  \n",
       "0  0.480885  0.477601  \n",
       "1  1.379073  1.136542  \n",
       "2  0.273399  0.271531  \n",
       "3  6.017984  6.994138  \n",
       "4  2.875641  3.828174  \n",
       "5  1.512988  1.502654  \n",
       "6  0.892657  0.735669  \n",
       "7  0.567665  0.467832  \n",
       "8  1.209275  1.609837  \n",
       "9  1.418679  1.888605  "
      ]
     },
     "execution_count": 6,
     "metadata": {},
     "output_type": "execute_result"
    }
   ],
   "source": [
    "dfDistributions.head(10)"
   ]
  },
  {
   "cell_type": "code",
   "execution_count": 7,
   "metadata": {},
   "outputs": [
    {
     "data": {
      "image/png": "[encoded data removed]",
      "text/plain": [
       "<Figure size 432x288 with 1 Axes>"
      ]
     },
     "metadata": {
      "needs_background": "light"
     },
     "output_type": "display_data"
    }
   ],
   "source": [
    "plt.hist(dfDistributions['Time 15'], bins = 150, range=(0,20),density=True)\n",
    "plt.title('Histogram of Final Wealth')\n",
    "plt.show()"
   ]
  },
  {
   "cell_type": "code",
   "execution_count": 8,
   "metadata": {},
   "outputs": [
    {
     "data": {
      "image/png": "[encoded data removed]",
      "text/plain": [
       "<Figure size 432x288 with 1 Axes>"
      ]
     },
     "metadata": {
      "needs_background": "light"
     },
     "output_type": "display_data"
    }
   ],
   "source": [
    "plt.hist(dfDistributions['Time 15'], range=(0,5), density=True, cumulative=True)\n",
    "plt.title('Cumulative Distribution of Final Wealth')\n",
    "plt.show()"
   ]
  },
  {
   "cell_type": "code",
   "execution_count": 9,
   "metadata": {},
   "outputs": [
    {
     "name": "stdout",
     "output_type": "stream",
     "text": [
      "Probability you make money = \n",
      "70.299\n"
     ]
    }
   ],
   "source": [
    "print('Probability you make money = ')\n",
    "print(100*dfDistributions[dfDistributions['Time 15'] >= 1].shape[0]/dfDistributions['Time 15'].shape[0])"
   ]
  },
  {
   "cell_type": "code",
   "execution_count": 10,
   "metadata": {},
   "outputs": [
    {
     "name": "stdout",
     "output_type": "stream",
     "text": [
      "Average final wealth as a proportion of initial wealth = \n",
      "2.434184917248178\n"
     ]
    }
   ],
   "source": [
    "print('Average final wealth as a proportion of initial wealth = ')\n",
    "print(dfDistributions['Time 15'].mean())"
   ]
  },
  {
   "cell_type": "code",
   "execution_count": 19,
   "metadata": {},
   "outputs": [
    {
     "data": {
      "text/html": [
       "<div>\n",
       "<style scoped>\n",
       "    .dataframe tbody tr th:only-of-type {\n",
       "        vertical-align: middle;\n",
       "    }\n",
       "\n",
       "    .dataframe tbody tr th {\n",
       "        vertical-align: top;\n",
       "    }\n",
       "\n",
       "    .dataframe thead th {\n",
       "        text-align: right;\n",
       "    }\n",
       "</style>\n",
       "<table border=\"1\" class=\"dataframe\">\n",
       "  <thead>\n",
       "    <tr style=\"text-align: right;\">\n",
       "      <th></th>\n",
       "      <th>Time 5</th>\n",
       "      <th>Time 10</th>\n",
       "      <th>Time 15</th>\n",
       "    </tr>\n",
       "  </thead>\n",
       "  <tbody>\n",
       "    <tr>\n",
       "      <th>Average Wealth</th>\n",
       "      <td>1.344063</td>\n",
       "      <td>1.812831</td>\n",
       "      <td>2.434185</td>\n",
       "    </tr>\n",
       "    <tr>\n",
       "      <th>Vol of Wealth</th>\n",
       "      <td>0.706219</td>\n",
       "      <td>1.440445</td>\n",
       "      <td>2.534314</td>\n",
       "    </tr>\n",
       "    <tr>\n",
       "      <th>Prob of Making Money</th>\n",
       "      <td>0.632170</td>\n",
       "      <td>0.675120</td>\n",
       "      <td>0.702990</td>\n",
       "    </tr>\n",
       "    <tr>\n",
       "      <th>Prob of Meeting Goal</th>\n",
       "      <td>0.508000</td>\n",
       "      <td>0.588330</td>\n",
       "      <td>0.635000</td>\n",
       "    </tr>\n",
       "    <tr>\n",
       "      <th>Average Wealth Conditional On Losing Money</th>\n",
       "      <td>0.702041</td>\n",
       "      <td>0.632187</td>\n",
       "      <td>0.595177</td>\n",
       "    </tr>\n",
       "  </tbody>\n",
       "</table>\n",
       "</div>"
      ],
      "text/plain": [
       "                                               Time 5   Time 10   Time 15\n",
       "Average Wealth                               1.344063  1.812831  2.434185\n",
       "Vol of Wealth                                0.706219  1.440445  2.534314\n",
       "Prob of Making Money                         0.632170  0.675120  0.702990\n",
       "Prob of Meeting Goal                         0.508000  0.588330  0.635000\n",
       "Average Wealth Conditional On Losing Money   0.702041  0.632187  0.595177"
      ]
     },
     "execution_count": 19,
     "metadata": {},
     "output_type": "execute_result"
    }
   ],
   "source": [
    "imp.reload(rm)\n",
    "rm.full_report(dfDistributions[['Time 5', 'Time 10', 'Time 15']], goal=1.2, alpha=.05)"
   ]
  },
  {
   "cell_type": "code",
   "execution_count": null,
   "metadata": {},
   "outputs": [],
   "source": []
  }
 ],
 "metadata": {
  "kernelspec": {
   "display_name": "Python 3",
   "language": "python",
   "name": "python3"
  },
  "language_info": {
   "codemirror_mode": {
    "name": "ipython",
    "version": 3
   },
   "file_extension": ".py",
   "mimetype": "text/x-python",
   "name": "python",
   "nbconvert_exporter": "python",
   "pygments_lexer": "ipython3",
   "version": "3.6.7"
  }
 },
 "nbformat": 4,
 "nbformat_minor": 2
}
